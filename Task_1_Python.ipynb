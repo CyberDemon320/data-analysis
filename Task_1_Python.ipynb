{
  "cells": [
    {
      "cell_type": "markdown",
      "source": [
        "Задание 1\n",
        "\n",
        "Есть А/Б тест направленный на конверсию в покупку (Курсы и репетиторы). % что-либо купивших в обоих группах одинаковый. Средний чек разный. Каким способом можно проверить, что разница не случайна (с использованием sql и/или python).\n",
        "(А как принимать решение, если обе метрики разные?)"
      ],
      "metadata": {
        "id": "leJIBKeNOtqQ"
      },
      "id": "leJIBKeNOtqQ"
    },
    {
      "cell_type": "code",
      "execution_count": null,
      "id": "2efc4eda",
      "metadata": {
        "id": "2efc4eda"
      },
      "outputs": [],
      "source": [
        "import numpy as np\n",
        "import pandas as pd\n",
        "from scipy.stats import mannwhitneyu\n",
        "from scipy.stats import ttest_ind\n",
        "from scipy.stats import norm\n",
        "import matplotlib.pyplot as plt\n",
        "import seaborn as sns\n",
        "\n",
        "from tqdm.auto import tqdm\n",
        "\n",
        "plt.style.use('ggplot')"
      ]
    },
    {
      "cell_type": "code",
      "execution_count": null,
      "id": "b0fa91b8",
      "metadata": {
        "id": "b0fa91b8"
      },
      "outputs": [],
      "source": [
        "df = pd.read_csv('dif_average_check - Лист1.csv')"
      ]
    },
    {
      "cell_type": "code",
      "execution_count": null,
      "id": "7d21a421",
      "metadata": {
        "id": "7d21a421",
        "outputId": "8360c611-e544-4835-92b6-8eec0dd8b3c6"
      },
      "outputs": [
        {
          "data": {
            "text/html": [
              "<div>\n",
              "<style scoped>\n",
              "    .dataframe tbody tr th:only-of-type {\n",
              "        vertical-align: middle;\n",
              "    }\n",
              "\n",
              "    .dataframe tbody tr th {\n",
              "        vertical-align: top;\n",
              "    }\n",
              "\n",
              "    .dataframe thead th {\n",
              "        text-align: right;\n",
              "    }\n",
              "</style>\n",
              "<table border=\"1\" class=\"dataframe\">\n",
              "  <thead>\n",
              "    <tr style=\"text-align: right;\">\n",
              "      <th></th>\n",
              "      <th>customer</th>\n",
              "      <th>purchase</th>\n",
              "      <th>check</th>\n",
              "      <th>group</th>\n",
              "    </tr>\n",
              "  </thead>\n",
              "  <tbody>\n",
              "    <tr>\n",
              "      <th>0</th>\n",
              "      <td>1</td>\n",
              "      <td>1</td>\n",
              "      <td>60.0</td>\n",
              "      <td>test</td>\n",
              "    </tr>\n",
              "    <tr>\n",
              "      <th>1</th>\n",
              "      <td>2</td>\n",
              "      <td>1</td>\n",
              "      <td>100.0</td>\n",
              "      <td>test</td>\n",
              "    </tr>\n",
              "    <tr>\n",
              "      <th>2</th>\n",
              "      <td>3</td>\n",
              "      <td>0</td>\n",
              "      <td>NaN</td>\n",
              "      <td>test</td>\n",
              "    </tr>\n",
              "    <tr>\n",
              "      <th>3</th>\n",
              "      <td>4</td>\n",
              "      <td>1</td>\n",
              "      <td>69.0</td>\n",
              "      <td>test</td>\n",
              "    </tr>\n",
              "    <tr>\n",
              "      <th>4</th>\n",
              "      <td>5</td>\n",
              "      <td>0</td>\n",
              "      <td>NaN</td>\n",
              "      <td>test</td>\n",
              "    </tr>\n",
              "  </tbody>\n",
              "</table>\n",
              "</div>"
            ],
            "text/plain": [
              "   customer  purchase  check group\n",
              "0         1         1   60.0  test\n",
              "1         2         1  100.0  test\n",
              "2         3         0    NaN  test\n",
              "3         4         1   69.0  test\n",
              "4         5         0    NaN  test"
            ]
          },
          "execution_count": 42,
          "metadata": {},
          "output_type": "execute_result"
        }
      ],
      "source": [
        "df.head()"
      ]
    },
    {
      "cell_type": "code",
      "execution_count": null,
      "id": "01295ef5",
      "metadata": {
        "id": "01295ef5",
        "outputId": "4b167685-d957-4d31-b881-24bb56d6f8a2"
      },
      "outputs": [
        {
          "data": {
            "text/html": [
              "<div>\n",
              "<style scoped>\n",
              "    .dataframe tbody tr th:only-of-type {\n",
              "        vertical-align: middle;\n",
              "    }\n",
              "\n",
              "    .dataframe tbody tr th {\n",
              "        vertical-align: top;\n",
              "    }\n",
              "\n",
              "    .dataframe thead th {\n",
              "        text-align: right;\n",
              "    }\n",
              "</style>\n",
              "<table border=\"1\" class=\"dataframe\">\n",
              "  <thead>\n",
              "    <tr style=\"text-align: right;\">\n",
              "      <th></th>\n",
              "      <th>purchase</th>\n",
              "      <th>check</th>\n",
              "    </tr>\n",
              "    <tr>\n",
              "      <th>group</th>\n",
              "      <th></th>\n",
              "      <th></th>\n",
              "    </tr>\n",
              "  </thead>\n",
              "  <tbody>\n",
              "    <tr>\n",
              "      <th>control</th>\n",
              "      <td>0.56</td>\n",
              "      <td>71.928571</td>\n",
              "    </tr>\n",
              "    <tr>\n",
              "      <th>test</th>\n",
              "      <td>0.56</td>\n",
              "      <td>73.428571</td>\n",
              "    </tr>\n",
              "  </tbody>\n",
              "</table>\n",
              "</div>"
            ],
            "text/plain": [
              "         purchase      check\n",
              "group                       \n",
              "control      0.56  71.928571\n",
              "test         0.56  73.428571"
            ]
          },
          "execution_count": 43,
          "metadata": {},
          "output_type": "execute_result"
        }
      ],
      "source": [
        "df.groupby('group').mean()[['purchase', 'check']]"
      ]
    },
    {
      "cell_type": "code",
      "execution_count": null,
      "id": "a51629ed",
      "metadata": {
        "id": "a51629ed",
        "outputId": "c37e79b0-168e-45a1-cd37-ecf6fd2f70ce"
      },
      "outputs": [
        {
          "data": {
            "text/plain": [
              "customer      int64\n",
              "purchase      int64\n",
              "check       float64\n",
              "group        object\n",
              "dtype: object"
            ]
          },
          "execution_count": 44,
          "metadata": {},
          "output_type": "execute_result"
        }
      ],
      "source": [
        "df.dtypes"
      ]
    },
    {
      "cell_type": "code",
      "execution_count": null,
      "id": "5aec822c",
      "metadata": {
        "id": "5aec822c"
      },
      "outputs": [],
      "source": [
        "df = df.fillna({'check':0})"
      ]
    },
    {
      "cell_type": "code",
      "execution_count": null,
      "id": "d773cf6a",
      "metadata": {
        "id": "d773cf6a"
      },
      "outputs": [],
      "source": [
        "df_a = df[df.group == 'control']\n",
        "df_b = df[df.group == 'test']"
      ]
    },
    {
      "cell_type": "code",
      "execution_count": null,
      "id": "d3088994",
      "metadata": {
        "id": "d3088994",
        "outputId": "546d0bd1-87cd-46ef-e940-476875f0dde7"
      },
      "outputs": [
        {
          "data": {
            "text/plain": [
              "<matplotlib.legend.Legend at 0x15cd3eb71f0>"
            ]
          },
          "execution_count": 92,
          "metadata": {},
          "output_type": "execute_result"
        },
        {
          "data": {
            "image/png": "[encoded data removed]",
            "text/plain": [
              "<Figure size 720x360 with 1 Axes>"
            ]
          },
          "metadata": {},
          "output_type": "display_data"
        }
      ],
      "source": [
        "for_a = df_a[df_a.purchase == 1].groupby('check').count()\n",
        "for_b = df_b[df_b.purchase == 1].groupby('check').count()\n",
        "fig, ax = plt.subplots(figsize=(10,5))\n",
        "ax.bar(for_a.index, for_a['customer'], label = 'A')\n",
        "ax.bar(for_b.index, for_b['customer'], label = 'B')\n",
        "\n",
        "ax.set_ylabel('Count')\n",
        "ax.set_xlabel('Check')\n",
        "ax.legend()"
      ]
    },
    {
      "cell_type": "code",
      "execution_count": null,
      "id": "2fb9f9fb",
      "metadata": {
        "id": "2fb9f9fb",
        "outputId": "708f8855-c497-46e8-a5a9-58451aa4aef9"
      },
      "outputs": [
        {
          "data": {
            "text/plain": [
              "<AxesSubplot:xlabel='group', ylabel='check'>"
            ]
          },
          "execution_count": 93,
          "metadata": {},
          "output_type": "execute_result"
        },
        {
          "data": {
            "image/png": "[encoded data removed]",
            "text/plain": [
              "<Figure size 432x288 with 1 Axes>"
            ]
          },
          "metadata": {},
          "output_type": "display_data"
        }
      ],
      "source": [
        "sns.boxplot(x=\"group\", y=\"check\", data=df[df.purchase == 1])"
      ]
    },
    {
      "cell_type": "code",
      "execution_count": null,
      "id": "6125bf14",
      "metadata": {
        "id": "6125bf14",
        "outputId": "9f4db545-bd2a-466e-fa10-e0f639ab84d9"
      },
      "outputs": [
        {
          "data": {
            "text/plain": [
              "MannwhitneyuResult(statistic=326.0, pvalue=0.7919586045132309)"
            ]
          },
          "execution_count": 94,
          "metadata": {},
          "output_type": "execute_result"
        }
      ],
      "source": [
        "mannwhitneyu(df[df.group == 'test'].check,\n",
        "             df[df.group == 'control'].check)"
      ]
    },
    {
      "cell_type": "markdown",
      "id": "4f69b496",
      "metadata": {
        "id": "4f69b496"
      },
      "source": [
        "Видим, что p-value = 0.7919586045132309, следовательно, при уровне значимости = 0.05 мы принимаем нулевую гипотезу, которая гласит, что изменения случайны."
      ]
    },
    {
      "cell_type": "markdown",
      "id": "01263731",
      "metadata": {
        "id": "01263731"
      },
      "source": [
        "\n",
        "Если обе метрики разные, то нужно посмотреть на случайность результатов двух тестов для того, чтобы выбирать стратегию принятия решения: \n",
        "\n",
        "*   Если один из них случайный, то ориентируемся на вторую метрику: если  она дала прирост -> принимаем;\n",
        "*   Если оба результата не случайные, то нужно смотреть на обе метрики или посмотреть на какую-то более общую, которая их объединяет;\n",
        "*   Если оба случайные, то не выкатываем."
      ]
    }
  ],
  "metadata": {
    "kernelspec": {
      "display_name": "Python 3 (ipykernel)",
      "language": "python",
      "name": "python3"
    },
    "language_info": {
      "codemirror_mode": {
        "name": "ipython",
        "version": 3
      },
      "file_extension": ".py",
      "mimetype": "text/x-python",
      "name": "python",
      "nbconvert_exporter": "python",
      "pygments_lexer": "ipython3",
      "version": "3.8.12"
    },
    "colab": {
      "name": "Task_3.ipynb",
      "provenance": []
    }
  },
  "nbformat": 4,
  "nbformat_minor": 5
}